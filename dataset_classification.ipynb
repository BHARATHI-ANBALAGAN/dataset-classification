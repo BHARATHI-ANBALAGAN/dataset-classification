{
  "nbformat": 4,
  "nbformat_minor": 0,
  "metadata": {
    "colab": {
      "name": "dataset classification.ipynb",
      "provenance": []
    },
    "kernelspec": {
      "name": "python3",
      "display_name": "Python 3"
    }
  },
  "cells": [
    {
      "cell_type": "code",
      "metadata": {
        "id": "kM7W7h_0FxqL",
        "colab_type": "code",
        "colab": {}
      },
      "source": [
        "import sys\n",
        "import pandas as pd\n",
        "import pandas.testing as tm\n",
        "from matplotlib import pyplot as plt\n",
        "import seaborn as sns\n",
        "from sklearn.model_selection import train_test_split\n",
        "from sklearn import model_selection\n",
        "from sklearn.metrics import classification_report,confusion_matrix,accuracy_score\n",
        "from sklearn.tree import DecisionTreeClassifier\n",
        "from sklearn.linear_model import LogisticRegression\n",
        "from sklearn.neighbors import KNeighborsClassifier\n",
        "from sklearn.discriminant_analysis import LinearDiscriminantAnalysis\n",
        "from sklearn.naive_bayes import GaussianNB\n",
        "from sklearn.svm import SVC"
      ],
      "execution_count": 23,
      "outputs": []
    },
    {
      "cell_type": "code",
      "metadata": {
        "id": "_MnRSb0RGCos",
        "colab_type": "code",
        "colab": {}
      },
      "source": [
        "data_link = 'https://archive.ics.uci.edu/ml/machine-learning-databases/iris/iris.data'\n",
        "data = pd.read_csv(data_link,header=None,names=['sepal_length','sepal_width','petal_length','petal_width','class'])\n"
      ],
      "execution_count": 6,
      "outputs": []
    },
    {
      "cell_type": "code",
      "metadata": {
        "id": "wrQT6pdzHKZC",
        "colab_type": "code",
        "colab": {}
      },
      "source": [
        "train,test = train_test_split(data,test_size=0.2,random_state=7)"
      ],
      "execution_count": 7,
      "outputs": []
    },
    {
      "cell_type": "code",
      "metadata": {
        "id": "O5E23zfEHgcX",
        "colab_type": "code",
        "colab": {
          "base_uri": "https://localhost:8080/",
          "height": 555
        },
        "outputId": "a5384e94-3f94-4372-82dd-a3ed45f5d22a"
      },
      "source": [
        "train.describe"
      ],
      "execution_count": 9,
      "outputs": [
        {
          "output_type": "execute_result",
          "data": {
            "text/plain": [
              "<bound method NDFrame.describe of      sepal_length  sepal_width  petal_length  petal_width            class\n",
              "149           5.9          3.0           5.1          1.8   Iris-virginica\n",
              "84            5.4          3.0           4.5          1.5  Iris-versicolor\n",
              "40            5.0          3.5           1.3          0.3      Iris-setosa\n",
              "66            5.6          3.0           4.5          1.5  Iris-versicolor\n",
              "106           4.9          2.5           4.5          1.7   Iris-virginica\n",
              "41            4.5          2.3           1.3          0.3      Iris-setosa\n",
              "52            6.9          3.1           4.9          1.5  Iris-versicolor\n",
              "94            5.6          2.7           4.2          1.3  Iris-versicolor\n",
              "11            4.8          3.4           1.6          0.2      Iris-setosa\n",
              "51            6.4          3.2           4.5          1.5  Iris-versicolor\n",
              "77            6.7          3.0           5.0          1.7  Iris-versicolor\n",
              "85            6.0          3.4           4.5          1.6  Iris-versicolor\n",
              "32            5.2          4.1           1.5          0.1      Iris-setosa\n",
              "109           7.2          3.6           6.1          2.5   Iris-virginica\n",
              "28            5.2          3.4           1.4          0.2      Iris-setosa\n",
              "70            5.9          3.2           4.8          1.8  Iris-versicolor\n",
              "108           6.7          2.5           5.8          1.8   Iris-virginica\n",
              "137           6.4          3.1           5.5          1.8   Iris-virginica\n",
              "46            5.1          3.8           1.6          0.2      Iris-setosa\n",
              "37            4.9          3.1           1.5          0.1      Iris-setosa\n",
              "82            5.8          2.7           3.9          1.2  Iris-versicolor\n",
              "120           6.9          3.2           5.7          2.3   Iris-virginica\n",
              "63            6.1          2.9           4.7          1.4  Iris-versicolor\n",
              "119           6.0          2.2           5.0          1.5   Iris-virginica\n",
              "129           7.2          3.0           5.8          1.6   Iris-virginica\n",
              "138           6.0          3.0           4.8          1.8   Iris-virginica\n",
              "97            6.2          2.9           4.3          1.3  Iris-versicolor\n",
              "80            5.5          2.4           3.8          1.1  Iris-versicolor\n",
              "101           5.8          2.7           5.1          1.9   Iris-virginica\n",
              "140           6.7          3.1           5.6          2.4   Iris-virginica>"
            ]
          },
          "metadata": {
            "tags": []
          },
          "execution_count": 9
        }
      ]
    },
    {
      "cell_type": "code",
      "metadata": {
        "id": "mtUzjv8kHs97",
        "colab_type": "code",
        "colab": {
          "base_uri": "https://localhost:8080/",
          "height": 555
        },
        "outputId": "9db26cea-f447-44cf-d788-fcd8d135af9e"
      },
      "source": [
        "test.describe"
      ],
      "execution_count": 10,
      "outputs": [
        {
          "output_type": "execute_result",
          "data": {
            "text/plain": [
              "<bound method NDFrame.describe of      sepal_length  sepal_width  petal_length  petal_width            class\n",
              "149           5.9          3.0           5.1          1.8   Iris-virginica\n",
              "84            5.4          3.0           4.5          1.5  Iris-versicolor\n",
              "40            5.0          3.5           1.3          0.3      Iris-setosa\n",
              "66            5.6          3.0           4.5          1.5  Iris-versicolor\n",
              "106           4.9          2.5           4.5          1.7   Iris-virginica\n",
              "41            4.5          2.3           1.3          0.3      Iris-setosa\n",
              "52            6.9          3.1           4.9          1.5  Iris-versicolor\n",
              "94            5.6          2.7           4.2          1.3  Iris-versicolor\n",
              "11            4.8          3.4           1.6          0.2      Iris-setosa\n",
              "51            6.4          3.2           4.5          1.5  Iris-versicolor\n",
              "77            6.7          3.0           5.0          1.7  Iris-versicolor\n",
              "85            6.0          3.4           4.5          1.6  Iris-versicolor\n",
              "32            5.2          4.1           1.5          0.1      Iris-setosa\n",
              "109           7.2          3.6           6.1          2.5   Iris-virginica\n",
              "28            5.2          3.4           1.4          0.2      Iris-setosa\n",
              "70            5.9          3.2           4.8          1.8  Iris-versicolor\n",
              "108           6.7          2.5           5.8          1.8   Iris-virginica\n",
              "137           6.4          3.1           5.5          1.8   Iris-virginica\n",
              "46            5.1          3.8           1.6          0.2      Iris-setosa\n",
              "37            4.9          3.1           1.5          0.1      Iris-setosa\n",
              "82            5.8          2.7           3.9          1.2  Iris-versicolor\n",
              "120           6.9          3.2           5.7          2.3   Iris-virginica\n",
              "63            6.1          2.9           4.7          1.4  Iris-versicolor\n",
              "119           6.0          2.2           5.0          1.5   Iris-virginica\n",
              "129           7.2          3.0           5.8          1.6   Iris-virginica\n",
              "138           6.0          3.0           4.8          1.8   Iris-virginica\n",
              "97            6.2          2.9           4.3          1.3  Iris-versicolor\n",
              "80            5.5          2.4           3.8          1.1  Iris-versicolor\n",
              "101           5.8          2.7           5.1          1.9   Iris-virginica\n",
              "140           6.7          3.1           5.6          2.4   Iris-virginica>"
            ]
          },
          "metadata": {
            "tags": []
          },
          "execution_count": 10
        }
      ]
    },
    {
      "cell_type": "code",
      "metadata": {
        "id": "uwkbe7UHH7dY",
        "colab_type": "code",
        "colab": {
          "base_uri": "https://localhost:8080/",
          "height": 34
        },
        "outputId": "d839a3c7-09cc-42ad-92b5-4010f05045de"
      },
      "source": [
        "train.shape"
      ],
      "execution_count": 11,
      "outputs": [
        {
          "output_type": "execute_result",
          "data": {
            "text/plain": [
              "(120, 5)"
            ]
          },
          "metadata": {
            "tags": []
          },
          "execution_count": 11
        }
      ]
    },
    {
      "cell_type": "code",
      "metadata": {
        "id": "en_UeAqnH-m9",
        "colab_type": "code",
        "colab": {
          "base_uri": "https://localhost:8080/",
          "height": 34
        },
        "outputId": "73544f81-410a-4437-d7d1-e266d15dbc26"
      },
      "source": [
        "test.shape"
      ],
      "execution_count": 12,
      "outputs": [
        {
          "output_type": "execute_result",
          "data": {
            "text/plain": [
              "(30, 5)"
            ]
          },
          "metadata": {
            "tags": []
          },
          "execution_count": 12
        }
      ]
    },
    {
      "cell_type": "code",
      "metadata": {
        "id": "_arfeOizICr-",
        "colab_type": "code",
        "colab": {
          "base_uri": "https://localhost:8080/",
          "height": 260
        },
        "outputId": "676c4875-1e76-4e0e-db8d-6633f0947496"
      },
      "source": [
        "train.info"
      ],
      "execution_count": 13,
      "outputs": [
        {
          "output_type": "execute_result",
          "data": {
            "text/plain": [
              "<bound method DataFrame.info of      sepal_length  sepal_width  petal_length  petal_width            class\n",
              "126           6.2          2.8           4.8          1.8   Iris-virginica\n",
              "79            5.7          2.6           3.5          1.0  Iris-versicolor\n",
              "22            4.6          3.6           1.0          0.2      Iris-setosa\n",
              "139           6.9          3.1           5.4          2.1   Iris-virginica\n",
              "74            6.4          2.9           4.3          1.3  Iris-versicolor\n",
              "..            ...          ...           ...          ...              ...\n",
              "142           5.8          2.7           5.1          1.9   Iris-virginica\n",
              "92            5.8          2.6           4.0          1.2  Iris-versicolor\n",
              "103           6.3          2.9           5.6          1.8   Iris-virginica\n",
              "67            5.8          2.7           4.1          1.0  Iris-versicolor\n",
              "25            5.0          3.0           1.6          0.2      Iris-setosa\n",
              "\n",
              "[120 rows x 5 columns]>"
            ]
          },
          "metadata": {
            "tags": []
          },
          "execution_count": 13
        }
      ]
    },
    {
      "cell_type": "code",
      "metadata": {
        "id": "sWo2BbXpIPkc",
        "colab_type": "code",
        "colab": {
          "base_uri": "https://localhost:8080/",
          "height": 86
        },
        "outputId": "05a635ca-ca7c-4594-c620-0f9bbaca472c"
      },
      "source": [
        "pd.value_counts(train['class'])"
      ],
      "execution_count": 14,
      "outputs": [
        {
          "output_type": "execute_result",
          "data": {
            "text/plain": [
              "Iris-setosa        43\n",
              "Iris-virginica     39\n",
              "Iris-versicolor    38\n",
              "Name: class, dtype: int64"
            ]
          },
          "metadata": {
            "tags": []
          },
          "execution_count": 14
        }
      ]
    },
    {
      "cell_type": "code",
      "metadata": {
        "id": "ktQ_LJNpIUnn",
        "colab_type": "code",
        "colab": {
          "base_uri": "https://localhost:8080/",
          "height": 297
        },
        "outputId": "0fd0329c-abe4-4e34-9fd0-b4d1cfb05d73"
      },
      "source": [
        "print(\"Univariate analysis -  Sepal_length\")\n",
        "sns.distplot(train['sepal_length'],kde=True,bins=40)\n",
        "plt.show()"
      ],
      "execution_count": 17,
      "outputs": [
        {
          "output_type": "stream",
          "text": [
            "Univariate analysis -  Sepal_length\n"
          ],
          "name": "stdout"
        },
        {
          "output_type": "display_data",
          "data": {
            "image/png": "[encoded data removed]",
            "text/plain": [
              "<Figure size 432x288 with 1 Axes>"
            ]
          },
          "metadata": {
            "tags": [],
            "needs_background": "light"
          }
        }
      ]
    },
    {
      "cell_type": "code",
      "metadata": {
        "id": "Lzra3Z1pIt4S",
        "colab_type": "code",
        "colab": {
          "base_uri": "https://localhost:8080/",
          "height": 297
        },
        "outputId": "81327ba0-0532-4147-df29-5fe8aeb6d580"
      },
      "source": [
        "print(\"univariate analysis - sepal_width\")\n",
        "sns.distplot(train['sepal_width'],kde=True,bins=40)\n",
        "plt.show()\n"
      ],
      "execution_count": 18,
      "outputs": [
        {
          "output_type": "stream",
          "text": [
            "univariate analysis - sepal_width\n"
          ],
          "name": "stdout"
        },
        {
          "output_type": "display_data",
          "data": {
            "image/png": "[encoded data removed]",
            "text/plain": [
              "<Figure size 432x288 with 1 Axes>"
            ]
          },
          "metadata": {
            "tags": [],
            "needs_background": "light"
          }
        }
      ]
    },
    {
      "cell_type": "code",
      "metadata": {
        "id": "GbHcv34jI1kk",
        "colab_type": "code",
        "colab": {
          "base_uri": "https://localhost:8080/",
          "height": 297
        },
        "outputId": "805906e7-968b-4fb4-8fa7-a37175082fad"
      },
      "source": [
        "print(\"univariate analysis -petal_length \")\n",
        "sns.distplot(train['petal_length'],kde=True,bins=40)\n",
        "plt.show()"
      ],
      "execution_count": 19,
      "outputs": [
        {
          "output_type": "stream",
          "text": [
            "univariate analysis -petal_length \n"
          ],
          "name": "stdout"
        },
        {
          "output_type": "display_data",
          "data": {
            "image/png": "[encoded data removed]",
            "text/plain": [
              "<Figure size 432x288 with 1 Axes>"
            ]
          },
          "metadata": {
            "tags": [],
            "needs_background": "light"
          }
        }
      ]
    },
    {
      "cell_type": "code",
      "metadata": {
        "id": "qH1o2IYvJhUA",
        "colab_type": "code",
        "colab": {
          "base_uri": "https://localhost:8080/",
          "height": 297
        },
        "outputId": "a54cef78-5d13-47e1-b53e-86e465051b9d"
      },
      "source": [
        "print(\"univariate analysis - petal_width\")\n",
        "sns.distplot(train['petal_width'],kde=True,bins=40)\n",
        "plt.show()"
      ],
      "execution_count": 20,
      "outputs": [
        {
          "output_type": "stream",
          "text": [
            "univariate analysis - petal_width\n"
          ],
          "name": "stdout"
        },
        {
          "output_type": "display_data",
          "data": {
            "image/png": "[encoded data removed]",
            "text/plain": [
              "<Figure size 432x288 with 1 Axes>"
            ]
          },
          "metadata": {
            "tags": [],
            "needs_background": "light"
          }
        }
      ]
    },
    {
      "cell_type": "code",
      "metadata": {
        "id": "3ACyZ2ktJqlc",
        "colab_type": "code",
        "colab": {
          "base_uri": "https://localhost:8080/",
          "height": 625
        },
        "outputId": "16be4224-dbd7-43be-b504-420b04289c29"
      },
      "source": [
        "#model\n",
        "train['class'][train['class']=='Iris-versicolor']=0\n",
        "train['class'][train['class']=='Iris-setosa']=1\n",
        "train['class'][train['class']=='Iris-virginica']=2\n",
        "test['class'][test['class']=='Iris-versicolor']=0\n",
        "test['class'][test['class']=='Iris-setosa']=1\n",
        "test['class'][test['class']=='Iris-virginica']=2\n",
        "X = train.iloc[:,:-1]\n",
        "y = train.iloc[:,-1]\n",
        "y = pd.to_numeric(y)\n",
        "y_test=pd.to_numeric(test.iloc[:,-1])\n",
        "\n",
        "\n"
      ],
      "execution_count": 24,
      "outputs": [
        {
          "output_type": "stream",
          "text": [
            "/usr/local/lib/python3.6/dist-packages/ipykernel_launcher.py:2: SettingWithCopyWarning: \n",
            "A value is trying to be set on a copy of a slice from a DataFrame\n",
            "\n",
            "See the caveats in the documentation: https://pandas.pydata.org/pandas-docs/stable/user_guide/indexing.html#returning-a-view-versus-a-copy\n",
            "  \n",
            "/usr/local/lib/python3.6/dist-packages/pandas/core/generic.py:8765: SettingWithCopyWarning: \n",
            "A value is trying to be set on a copy of a slice from a DataFrame\n",
            "\n",
            "See the caveats in the documentation: https://pandas.pydata.org/pandas-docs/stable/user_guide/indexing.html#returning-a-view-versus-a-copy\n",
            "  self._update_inplace(new_data)\n",
            "/usr/local/lib/python3.6/dist-packages/ipykernel_launcher.py:3: SettingWithCopyWarning: \n",
            "A value is trying to be set on a copy of a slice from a DataFrame\n",
            "\n",
            "See the caveats in the documentation: https://pandas.pydata.org/pandas-docs/stable/user_guide/indexing.html#returning-a-view-versus-a-copy\n",
            "  This is separate from the ipykernel package so we can avoid doing imports until\n",
            "/usr/local/lib/python3.6/dist-packages/ipykernel_launcher.py:4: SettingWithCopyWarning: \n",
            "A value is trying to be set on a copy of a slice from a DataFrame\n",
            "\n",
            "See the caveats in the documentation: https://pandas.pydata.org/pandas-docs/stable/user_guide/indexing.html#returning-a-view-versus-a-copy\n",
            "  after removing the cwd from sys.path.\n",
            "/usr/local/lib/python3.6/dist-packages/ipykernel_launcher.py:5: SettingWithCopyWarning: \n",
            "A value is trying to be set on a copy of a slice from a DataFrame\n",
            "\n",
            "See the caveats in the documentation: https://pandas.pydata.org/pandas-docs/stable/user_guide/indexing.html#returning-a-view-versus-a-copy\n",
            "  \"\"\"\n",
            "/usr/local/lib/python3.6/dist-packages/ipykernel_launcher.py:6: SettingWithCopyWarning: \n",
            "A value is trying to be set on a copy of a slice from a DataFrame\n",
            "\n",
            "See the caveats in the documentation: https://pandas.pydata.org/pandas-docs/stable/user_guide/indexing.html#returning-a-view-versus-a-copy\n",
            "  \n",
            "/usr/local/lib/python3.6/dist-packages/ipykernel_launcher.py:7: SettingWithCopyWarning: \n",
            "A value is trying to be set on a copy of a slice from a DataFrame\n",
            "\n",
            "See the caveats in the documentation: https://pandas.pydata.org/pandas-docs/stable/user_guide/indexing.html#returning-a-view-versus-a-copy\n",
            "  import sys\n"
          ],
          "name": "stderr"
        }
      ]
    },
    {
      "cell_type": "code",
      "metadata": {
        "id": "GIElxo96KDk4",
        "colab_type": "code",
        "colab": {
          "base_uri": "https://localhost:8080/",
          "height": 766
        },
        "outputId": "13448e91-7988-4ea3-a7e4-c258e274de01"
      },
      "source": [
        "models = []\n",
        "models.append(('LR', LogisticRegression()))\n",
        "models.append(('DT', DecisionTreeClassifier()))\n",
        "models.append(('LDA', LinearDiscriminantAnalysis()))\n",
        "models.append(('KNN', KNeighborsClassifier()))\n",
        "models.append(('NB', GaussianNB()))\n",
        "models.append(('SVM', SVC()))\n",
        "# evaluate each model in turn\n",
        "scoring = 'accuracy'\n",
        "\n",
        "results = []\n",
        "names = []\n",
        "for name, model in models:\n",
        "\tkfold = model_selection.KFold(n_splits=10, random_state=7)\n",
        "\tcv_results = model_selection.cross_val_score(model, X,y, cv=kfold, scoring=scoring)\n",
        "\tresults.append(cv_results)\n",
        "\tnames.append(name)\n",
        "\tmsg = \"%s: %f (%f)\" % (name, cv_results.mean(), cv_results.std())\n",
        "\tprint(msg)\n",
        "\n"
      ],
      "execution_count": 26,
      "outputs": [
        {
          "output_type": "stream",
          "text": [
            "/usr/local/lib/python3.6/dist-packages/sklearn/model_selection/_split.py:296: FutureWarning: Setting a random_state has no effect since shuffle is False. This will raise an error in 0.24. You should leave random_state to its default (None), or set shuffle=True.\n",
            "  FutureWarning\n",
            "/usr/local/lib/python3.6/dist-packages/sklearn/linear_model/_logistic.py:940: ConvergenceWarning: lbfgs failed to converge (status=1):\n",
            "STOP: TOTAL NO. of ITERATIONS REACHED LIMIT.\n",
            "\n",
            "Increase the number of iterations (max_iter) or scale the data as shown in:\n",
            "    https://scikit-learn.org/stable/modules/preprocessing.html\n",
            "Please also refer to the documentation for alternative solver options:\n",
            "    https://scikit-learn.org/stable/modules/linear_model.html#logistic-regression\n",
            "  extra_warning_msg=_LOGISTIC_SOLVER_CONVERGENCE_MSG)\n",
            "/usr/local/lib/python3.6/dist-packages/sklearn/linear_model/_logistic.py:940: ConvergenceWarning: lbfgs failed to converge (status=1):\n",
            "STOP: TOTAL NO. of ITERATIONS REACHED LIMIT.\n",
            "\n",
            "Increase the number of iterations (max_iter) or scale the data as shown in:\n",
            "    https://scikit-learn.org/stable/modules/preprocessing.html\n",
            "Please also refer to the documentation for alternative solver options:\n",
            "    https://scikit-learn.org/stable/modules/linear_model.html#logistic-regression\n",
            "  extra_warning_msg=_LOGISTIC_SOLVER_CONVERGENCE_MSG)\n",
            "/usr/local/lib/python3.6/dist-packages/sklearn/linear_model/_logistic.py:940: ConvergenceWarning: lbfgs failed to converge (status=1):\n",
            "STOP: TOTAL NO. of ITERATIONS REACHED LIMIT.\n",
            "\n",
            "Increase the number of iterations (max_iter) or scale the data as shown in:\n",
            "    https://scikit-learn.org/stable/modules/preprocessing.html\n",
            "Please also refer to the documentation for alternative solver options:\n",
            "    https://scikit-learn.org/stable/modules/linear_model.html#logistic-regression\n",
            "  extra_warning_msg=_LOGISTIC_SOLVER_CONVERGENCE_MSG)\n",
            "/usr/local/lib/python3.6/dist-packages/sklearn/model_selection/_split.py:296: FutureWarning: Setting a random_state has no effect since shuffle is False. This will raise an error in 0.24. You should leave random_state to its default (None), or set shuffle=True.\n",
            "  FutureWarning\n"
          ],
          "name": "stderr"
        },
        {
          "output_type": "stream",
          "text": [
            "LR: 0.983333 (0.033333)\n",
            "DT: 0.983333 (0.033333)\n",
            "LDA: 0.975000 (0.038188)\n"
          ],
          "name": "stdout"
        },
        {
          "output_type": "stream",
          "text": [
            "/usr/local/lib/python3.6/dist-packages/sklearn/model_selection/_split.py:296: FutureWarning: Setting a random_state has no effect since shuffle is False. This will raise an error in 0.24. You should leave random_state to its default (None), or set shuffle=True.\n",
            "  FutureWarning\n",
            "/usr/local/lib/python3.6/dist-packages/sklearn/model_selection/_split.py:296: FutureWarning: Setting a random_state has no effect since shuffle is False. This will raise an error in 0.24. You should leave random_state to its default (None), or set shuffle=True.\n",
            "  FutureWarning\n",
            "/usr/local/lib/python3.6/dist-packages/sklearn/model_selection/_split.py:296: FutureWarning: Setting a random_state has no effect since shuffle is False. This will raise an error in 0.24. You should leave random_state to its default (None), or set shuffle=True.\n",
            "  FutureWarning\n"
          ],
          "name": "stderr"
        },
        {
          "output_type": "stream",
          "text": [
            "KNN: 0.983333 (0.033333)\n",
            "NB: 0.975000 (0.053359)\n",
            "SVM: 0.983333 (0.033333)\n"
          ],
          "name": "stdout"
        },
        {
          "output_type": "stream",
          "text": [
            "/usr/local/lib/python3.6/dist-packages/sklearn/model_selection/_split.py:296: FutureWarning: Setting a random_state has no effect since shuffle is False. This will raise an error in 0.24. You should leave random_state to its default (None), or set shuffle=True.\n",
            "  FutureWarning\n"
          ],
          "name": "stderr"
        }
      ]
    },
    {
      "cell_type": "code",
      "metadata": {
        "id": "BKJIjw6FKlmL",
        "colab_type": "code",
        "colab": {
          "base_uri": "https://localhost:8080/",
          "height": 278
        },
        "outputId": "518d9d27-9881-4138-b3cc-33d37bc4d57e"
      },
      "source": [
        "print(\" Making predictions using KNN\")\n",
        "KNN = KNeighborsClassifier()\n",
        "KNN.fit(X,y)\n",
        "predictions = KNN.predict(test.iloc[:,:-1])\n",
        "print(accuracy_score(y_test, predictions))\n",
        "print(confusion_matrix(y_test, predictions))\n",
        "print(classification_report(y_test, predictions))"
      ],
      "execution_count": 29,
      "outputs": [
        {
          "output_type": "stream",
          "text": [
            " Making predictions using KNN\n",
            "0.9\n",
            "[[11  0  1]\n",
            " [ 0  7  0]\n",
            " [ 2  0  9]]\n",
            "              precision    recall  f1-score   support\n",
            "\n",
            "           0       0.85      0.92      0.88        12\n",
            "           1       1.00      1.00      1.00         7\n",
            "           2       0.90      0.82      0.86        11\n",
            "\n",
            "    accuracy                           0.90        30\n",
            "   macro avg       0.92      0.91      0.91        30\n",
            "weighted avg       0.90      0.90      0.90        30\n",
            "\n"
          ],
          "name": "stdout"
        }
      ]
    },
    {
      "cell_type": "code",
      "metadata": {
        "id": "pa136GycLCTG",
        "colab_type": "code",
        "colab": {}
      },
      "source": [
        ""
      ],
      "execution_count": null,
      "outputs": []
    }
  ]
}